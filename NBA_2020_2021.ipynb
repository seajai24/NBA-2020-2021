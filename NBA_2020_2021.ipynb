{
  "nbformat": 4,
  "nbformat_minor": 0,
  "metadata": {
    "colab": {
      "name": "NBA 2020-2021.ipynb",
      "provenance": [],
      "collapsed_sections": [],
      "toc_visible": true
    },
    "kernelspec": {
      "name": "python3",
      "display_name": "Python 3"
    },
    "language_info": {
      "name": "python"
    }
  },
  "cells": [
    {
      "cell_type": "code",
      "metadata": {
        "id": "qRr-OmtLcewv",
        "colab": {
          "base_uri": "https://localhost:8080/"
        },
        "outputId": "f16507ea-baa8-4ead-baff-3680e986e091"
      },
      "source": [
        "import pandas as pd\n",
        "import numpy as np\n",
        "import io\n",
        "import matplotlib.pyplot as plt\n",
        "import seaborn as sns\n",
        "from sklearn import linear_model\n",
        "import statsmodels.api as sm\n",
        "from statsmodels.stats.outliers_influence import variance_inflation_factor\n",
        "from scipy import stats\n",
        "import re\n",
        "\n",
        "%matplotlib inline"
      ],
      "execution_count": null,
      "outputs": [
        {
          "output_type": "stream",
          "text": [
            "/usr/local/lib/python3.7/dist-packages/statsmodels/tools/_testing.py:19: FutureWarning: pandas.util.testing is deprecated. Use the functions in the public API at pandas.testing instead.\n",
            "  import pandas.util.testing as tm\n"
          ],
          "name": "stderr"
        }
      ]
    },
    {
      "cell_type": "code",
      "metadata": {
        "id": "UPz4b6dIcnT3"
      },
      "source": [
        "from google.colab import files\n",
        "  \n",
        "uploaded = files.upload()"
      ],
      "execution_count": null,
      "outputs": []
    },
    {
      "cell_type": "code",
      "metadata": {
        "id": "G95v0qCUh-pm"
      },
      "source": [
        "West = ['DAL', 'DEN', 'GSW', 'HOU', 'LAC', 'LAL', 'MEM', 'MIN', 'NOP', 'OKC', 'PHO', 'POR', 'SAC', 'SAS', 'UTA']\n",
        "East = ['ATL', 'BKN', 'BOS', 'CHA', 'CHI', 'CLE', 'DET', 'IND', 'MIA', 'MIL', 'NYK', 'ORL', 'PHI', 'TOR', 'WAS']"
      ],
      "execution_count": null,
      "outputs": []
    },
    {
      "cell_type": "code",
      "metadata": {
        "id": "s4hqc4lWlU84"
      },
      "source": [
        "#Create dataframes for each WC team\n",
        "west_dict = {}\n",
        "for i in West :\n",
        "  west_dict[i] = pd.read_csv('{} 2020-2021 (Mar 31).csv'.format(i))\n",
        "  west_dict[i]['HomeAway'] = west_dict[i]['HomeAway'].replace(np.nan, 0) #Home = 0\n",
        "  west_dict[i]['HomeAway'] = west_dict[i]['HomeAway'].replace('@', 1) #Away = 1\n",
        "  west_dict[i]['Opp'] = west_dict[i]['Opp'].replace('CHO', \"CHA\")\n",
        "  west_dict[i]['Team'] = i\n",
        "\n",
        "#Create dataframes for each EC team\n",
        "east_dict = {}\n",
        "for j in East :\n",
        "  east_dict[j] = pd.read_csv('{} 2020-2021 (Mar 31).csv'.format(j))\n",
        "  east_dict[j]['HomeAway'] = east_dict[j]['HomeAway'].replace(np.nan, 0) #Home = 0\n",
        "  east_dict[j]['HomeAway'] = east_dict[j]['HomeAway'].replace('@', 1) #Away = 1\n",
        "  east_dict[j]['Opp'] = east_dict[j]['Opp'].replace('CHO', \"CHA\")\n",
        "  east_dict[j]['Team'] = j"
      ],
      "execution_count": null,
      "outputs": []
    },
    {
      "cell_type": "code",
      "metadata": {
        "id": "zVn2WaEFwpuX"
      },
      "source": [
        "#One dataframe for all WC teams\n",
        "dfw = pd.DataFrame()\n",
        "for k in West :\n",
        "  dfw = dfw.append(west_dict[k], ignore_index = True)"
      ],
      "execution_count": null,
      "outputs": []
    },
    {
      "cell_type": "code",
      "metadata": {
        "id": "Jyv5t3he0pim"
      },
      "source": [
        "#One dataframe for all EC teams\n",
        "dfe = pd.DataFrame()\n",
        "for m in East :\n",
        "  dfe = dfe.append(east_dict[m], ignore_index = True)"
      ],
      "execution_count": null,
      "outputs": []
    },
    {
      "cell_type": "code",
      "metadata": {
        "id": "anQCI9LOA2Wu"
      },
      "source": [
        "#One dataframe for all teams\n",
        "df = dfw.append(dfe, ignore_index = True)"
      ],
      "execution_count": null,
      "outputs": []
    },
    {
      "cell_type": "code",
      "metadata": {
        "id": "csjRh4Cm4UB-"
      },
      "source": [
        "#Rename and print column names of the dataframe\n",
        "df = df.rename(columns = {'Opp' : 'Opponent', 'Tm' : 'Points', 'Opp.1' : 'OppPoints', 'FTr' : 'FTRate', '3PAr' : '3PtRate'})"
      ],
      "execution_count": null,
      "outputs": []
    },
    {
      "cell_type": "code",
      "metadata": {
        "id": "zAO_hA5F7317"
      },
      "source": [
        "#Reorder columns of the dataframe\n",
        "df = df[['Date', 'Team', 'HomeAway', 'Opponent', 'Points', 'OppPoints', 'ORtg', 'DRtg', 'Pace', 'FTRate', '3PtRate',\n",
        "         'TS%', 'TRB%', 'AST%', 'STL%', 'BLK%', 'OeFG%', 'OffTOV%', 'OffORB%', 'OffFT/FGA', 'DeFG%', 'DefTOV%', 'DefDRB%', 'DefFT/FGA']]\n",
        "#Date: date of game\n",
        "#Team: team that these stats go with\n",
        "#HomeAway: 0 if Team was home, 1 if away\n",
        "#Opponent: opponent\n",
        "#Points: points scored by team\n",
        "#OppPoints: points scored by opponent\n",
        "#ORtg: offensive rating of team\n",
        "#DRtg: defensive rating of team\n",
        "#Pace: pace of the game\n",
        "#FTRate: free throw attempts per field goal attempt for team\n",
        "#3PtRate: percentage of field goal attempts from 3 for team\n",
        "#TS%: true shooting percentage for team\n",
        "#TRB%: total rebound percentage for team\n",
        "#AST%: percentage of field goals that were assisted on for team\n",
        "#STL%: percentage of opponent's possessions that ended in a steal\n",
        "#BLK%: percentage of opponent's field goals that were blocked\n",
        "#OeFG%: team's effective field goal percentage\n",
        "#OffTOV%: team's turn over percentage\n",
        "#OffORB%: team's offensive rebound percentage\n",
        "#OffFT/FGA: team's made free throw per field goal attempt\n",
        "#DeFG%: opponent's effective field goal percentage for team\n",
        "#DefTOV%: opponent's turn over percentage\n",
        "#DefDRB%: team's defensive rebound percentage\n",
        "#DefFT/FGA: opponent's made free throw per field goal attempt"
      ],
      "execution_count": null,
      "outputs": []
    },
    {
      "cell_type": "code",
      "metadata": {
        "id": "D-eflw9J8tHC"
      },
      "source": [
        "#Sort by date\n",
        "df['Date'] = pd.to_datetime(df.Date)\n",
        "df = df.sort_values('Date')\n",
        "df = df.reset_index(drop = True)"
      ],
      "execution_count": null,
      "outputs": []
    },
    {
      "cell_type": "code",
      "metadata": {
        "id": "NFG59831IuE7"
      },
      "source": [
        "#Create a dataframe for the basic game log data\n",
        "basic_log = pd.read_csv('NBA Basic Game Log 2020-2021 (Mar 31).csv')"
      ],
      "execution_count": null,
      "outputs": []
    },
    {
      "cell_type": "code",
      "metadata": {
        "id": "p6j5yRdRKJDw"
      },
      "source": [
        "#Fix HomeAway column and Hornets abbreviation\n",
        "basic_log['HomeAway'] = basic_log['HomeAway'].replace(np.nan, 0) #Home = 0\n",
        "basic_log['HomeAway'] = basic_log['HomeAway'].replace('@', 1) #Away = 1\n",
        "basic_log['Opponent'] = basic_log['Opponent'].replace('CHO', 'CHA')"
      ],
      "execution_count": null,
      "outputs": []
    },
    {
      "cell_type": "code",
      "metadata": {
        "id": "qMyHuKOJOIPG"
      },
      "source": [
        "#Create a possession variable\n",
        "basic_log['Possessions'] = 0.5 * ((basic_log['FGA'] + 0.4*basic_log['FTA'] - 1.07*(basic_log['ORB']/(basic_log['ORB']+(basic_log['OppTRB']-basic_log['OppORB']))) *\n",
        "                                   (basic_log['FGA']-basic_log['FG']) + basic_log['TOV']) + \n",
        "                                  (basic_log['OppFGA'] + 0.4*basic_log['OppFTA'] - 1.07*(basic_log['OppORB']/(basic_log['OppORB']+(basic_log['TRB']-basic_log['ORB']))) *\n",
        "                                   (basic_log['OppFGA']-basic_log['OppFG']) + basic_log['OppTOV']))"
      ],
      "execution_count": null,
      "outputs": []
    },
    {
      "cell_type": "code",
      "metadata": {
        "id": "fGySZYrocR8Q"
      },
      "source": [
        "#Create the defensive stats needed and add them to basic_log\n",
        "basic_log['OppTS%'] = basic_log['OppPoints'] / (2 * (basic_log['OppFGA'] + 0.44 * basic_log['OppFTA']))\n",
        "basic_log['OppTRB%'] = (basic_log['OppTRB'] / (basic_log['TRB'] + basic_log['OppTRB'])) * 100\n",
        "basic_log['OppAST%'] = (basic_log['OppAST'] / basic_log['OppFG']) * 100\n",
        "basic_log['OppTOV%'] = (basic_log['OppTOV'] / (basic_log['OppFGA'] + 0.44 * basic_log['OppFTA'] + basic_log['OppTOV'])) * 100\n",
        "basic_log['OppORB%'] = (basic_log['OppORB'] / (basic_log['OppORB'] + (basic_log['TRB'] - basic_log['ORB']))) * 100\n",
        "basic_log['OppFT/FGA'] = basic_log['OppFT'] / basic_log['OppFGA']\n",
        "basic_log['OppDRB%'] = ((basic_log['OppTRB'] - basic_log['OppORB']) / (((basic_log['OppTRB'] - basic_log['OppORB']) + basic_log['ORB']))) * 100\n",
        "basic_log['OppSTL%'] = basic_log['OppSTL'] / basic_log['Possessions']\n",
        "basic_log['OppBLK%'] = basic_log['OppBLK'] / (basic_log['OppFGA'] - basic_log['Opp3PA'])\n",
        "basic_log['Opp3PtRate'] = basic_log['Opp3PA'] / basic_log['OppFGA']\n",
        "basic_log['OppFTRate'] = basic_log['OppFTA'] / basic_log['OppFGA']"
      ],
      "execution_count": null,
      "outputs": []
    },
    {
      "cell_type": "code",
      "metadata": {
        "id": "WudDT5LYKzFI"
      },
      "source": [
        "#Reorder the columns\n",
        "basic_log = basic_log[['Date', 'Team', 'HomeAway', 'Opponent', 'Points', 'OppPoints', 'FG',\t'FGA',\t'FG%',\t'3P',\t'3PA',\t'3P%',\t'FT',\t'FTA',\n",
        "                       'FT%',\t'ORB',\t'TRB',\t'AST',\t'STL',\t'BLK',\t'TOV',\t'PF',\t'OppFG',\t'OppFGA',\t'OppFG%',\t'Opp3P',\t'Opp3PA',\t'Opp3P%',\n",
        "                       'OppFT',\t'OppFTA',\t'OppFT%',\t'OppORB',\t'OppTRB',\t'OppAST',\t'OppSTL',\t'OppBLK',\t'OppTOV',\t'OppPF', 'OppTS%', 'OppTRB%',\n",
        "                       'OppAST%', 'OppTOV%', 'OppORB%', 'OppFT/FGA', 'OppDRB%', 'OppSTL%', 'OppBLK%', 'Opp3PtRate', 'OppFTRate', 'Possessions']]"
      ],
      "execution_count": null,
      "outputs": []
    },
    {
      "cell_type": "code",
      "metadata": {
        "id": "VryPfZhTMcnU"
      },
      "source": [
        "#Sort by date\n",
        "basic_log['Date'] = pd.to_datetime(basic_log.Date)\n",
        "basic_log = basic_log.sort_values('Date')\n",
        "basic_log = basic_log.reset_index(drop = True)"
      ],
      "execution_count": null,
      "outputs": []
    },
    {
      "cell_type": "code",
      "metadata": {
        "id": "-Jlf5DN4MRQ8"
      },
      "source": [
        "#Add days since last game column to dataframe\n",
        "def last_game(g) :\n",
        "  g.sort_values(by = 'Date')\n",
        "  g['Last_Game'] = g.Date.shift(+1)\n",
        "  return g\n",
        "\n",
        "df = df.groupby(df.Team).apply(last_game)\n",
        "df['Days_Since'] = ''\n",
        "for i in range(df.shape[0]) :\n",
        "  df['Days_Since'][i] = (df['Date'][i] - df['Last_Game'][i]).days\n",
        "\n",
        "df['Days_Since'] = df['Days_Since'].replace(np.nan, 4)\n",
        "df = df.drop(['Last_Game'], axis = 1)"
      ],
      "execution_count": null,
      "outputs": []
    },
    {
      "cell_type": "markdown",
      "metadata": {
        "id": "SmfTXXk2Ti_-"
      },
      "source": [
        "#Machine Learning and sklearn"
      ]
    },
    {
      "cell_type": "code",
      "metadata": {
        "id": "RpPq-QeoTb5g"
      },
      "source": [
        "#Multiple Linear Regression using sklearn and Machine Learning\n",
        "X = df.iloc[:, 2:25]#.values\n",
        "y = df.iloc[:, 4]#.values\n",
        "#X = np.delete(X, [1, 2], axis = 1)\n",
        "X = X.drop(['Opponent', 'Points'], axis = 1)"
      ],
      "execution_count": null,
      "outputs": []
    },
    {
      "cell_type": "code",
      "metadata": {
        "id": "e_633YdIG44U"
      },
      "source": [
        "#Split dataset\n",
        "from sklearn.model_selection import train_test_split\n",
        "X_train, X_test, y_train, y_test = train_test_split(X, y, test_size = 0.2, random_state = 0)"
      ],
      "execution_count": null,
      "outputs": []
    },
    {
      "cell_type": "code",
      "metadata": {
        "id": "x1bq-WMnG-rD",
        "colab": {
          "base_uri": "https://localhost:8080/"
        },
        "outputId": "d3b9b9c7-3bf0-4fab-bdbb-d89baef93726"
      },
      "source": [
        "#Train the model on the training set\n",
        "from sklearn.linear_model import LinearRegression\n",
        "regressor = LinearRegression()\n",
        "regressor.fit(X_train, y_train)"
      ],
      "execution_count": null,
      "outputs": [
        {
          "output_type": "execute_result",
          "data": {
            "text/plain": [
              "LinearRegression(copy_X=True, fit_intercept=True, n_jobs=None, normalize=False)"
            ]
          },
          "metadata": {
            "tags": []
          },
          "execution_count": 76
        }
      ]
    },
    {
      "cell_type": "code",
      "metadata": {
        "id": "7e0zPCzWHFS5"
      },
      "source": [
        "#Check accuracy\n",
        "y_pred = regressor.predict(X_test)\n",
        "np.set_printoptions(precision = 2)\n",
        "print(np.concatenate((y_pred.reshape(len(y_pred), 1), y_test.values.reshape(len(y_test.values), 1)), axis = 1))\n",
        "#np.mean(abs(y_pred - y_test))"
      ],
      "execution_count": null,
      "outputs": []
    },
    {
      "cell_type": "code",
      "metadata": {
        "colab": {
          "base_uri": "https://localhost:8080/"
        },
        "id": "ISqxRY7WJKps",
        "outputId": "f1f0de4f-8e8f-4407-9d72-4a6d44cb36d9"
      },
      "source": [
        "#Obtain regression equation\n",
        "coeff_df = pd.DataFrame(regressor.coef_, X.columns, columns=['Coefficient'])\n",
        "#print(coeff_df)\n",
        "#print(regressor.coef_)\n",
        "intercept = pd.DataFrame([[regressor.intercept_]], columns = ['Coefficient'], index = ['Intercept'])\n",
        "regression_df = intercept.append(coeff_df)\n",
        "print(regression_df)"
      ],
      "execution_count": null,
      "outputs": [
        {
          "output_type": "stream",
          "text": [
            "            Coefficient\n",
            "Intercept     -4.225932\n",
            "HomeAway      -0.069941\n",
            "OppPoints      0.965889\n",
            "ORtg           0.945142\n",
            "DRtg          -0.927045\n",
            "Pace           0.029493\n",
            "FTRate         0.864654\n",
            "3PtRate       -0.284621\n",
            "TS%            8.329850\n",
            "TRB%           0.027355\n",
            "AST%          -0.002782\n",
            "STL%           0.003099\n",
            "BLK%           0.000706\n",
            "OeFG%         -1.467898\n",
            "OffTOV%       -0.061168\n",
            "OffORB%        0.007606\n",
            "OffFT/FGA     -1.486191\n",
            "DeFG%         -3.768512\n",
            "DefTOV%        0.040379\n",
            "DefDRB%        0.002434\n",
            "DefFT/FGA      0.053714\n",
            "Days_Since     0.006294\n"
          ],
          "name": "stdout"
        }
      ]
    },
    {
      "cell_type": "code",
      "metadata": {
        "id": "GVRyQngCpyHP"
      },
      "source": [
        "#Create a dataframe with the average of each team's variables from df\n",
        "col_list = df.columns\n",
        "All = ['DAL', 'DEN', 'GSW', 'HOU', 'LAC', 'LAL', 'MEM', 'MIN', 'NOP', 'OKC', 'PHO', 'POR', 'SAC', 'SAS', 'UTA', \n",
        "       'ATL', 'BKN', 'BOS', 'CHA', 'CHI', 'CLE', 'DET', 'IND', 'MIA', 'MIL', 'NYK', 'ORL', 'PHI', 'TOR', 'WAS']\n",
        "rank = pd.DataFrame()\n",
        "for t in All :\n",
        "  temp_team = pd.DataFrame()\n",
        "  for c in col_list[5:-1] :\n",
        "    temp = pd.DataFrame([[np.mean(df[df['Team'] == t][c])]], columns = ['{}'.format(c)], index = ['{}'.format(t)])\n",
        "    temp_team = temp_team.join(temp, how = 'outer')\n",
        "  rank = rank.append(temp_team)"
      ],
      "execution_count": null,
      "outputs": []
    },
    {
      "cell_type": "code",
      "metadata": {
        "id": "Xz4lJxkIXjrO"
      },
      "source": [
        "#Create a dataframe with the average of each team's variables from basic_log\n",
        "col_list = basic_log.columns\n",
        "All = ['DAL', 'DEN', 'GSW', 'HOU', 'LAC', 'LAL', 'MEM', 'MIN', 'NOP', 'OKC', 'PHO', 'POR', 'SAC', 'SAS', 'UTA', \n",
        "       'ATL', 'BKN', 'BOS', 'CHA', 'CHI', 'CLE', 'DET', 'IND', 'MIA', 'MIL', 'NYK', 'ORL', 'PHI', 'TOR', 'WAS']\n",
        "rank_basic = pd.DataFrame()\n",
        "for t in All :\n",
        "  temp_team = pd.DataFrame()\n",
        "  for c in col_list[4:-1] :\n",
        "    temp = pd.DataFrame([[np.mean(basic_log[basic_log['Team'] == t][c])]], columns = ['{}'.format(c)], index = ['{}'.format(t)])\n",
        "    temp_team = temp_team.join(temp, how = 'outer')\n",
        "  rank_basic = rank_basic.append(temp_team)"
      ],
      "execution_count": null,
      "outputs": []
    },
    {
      "cell_type": "code",
      "metadata": {
        "id": "pKvKr8eonbyM"
      },
      "source": [
        "#Combine the two previously created fataframes and delete duplicate columns\n",
        "rank_all = pd.concat([rank, rank_basic], axis = 1)\n",
        "rank_all = rank_all.loc[:, ~rank_all.columns.duplicated()]"
      ],
      "execution_count": null,
      "outputs": []
    },
    {
      "cell_type": "code",
      "metadata": {
        "id": "5m_JpzdrJ6Gv"
      },
      "source": [
        "#Create a function that uses similar opponent data to determine a team's score\n",
        "def sim_pred(t1, t2, ha, ds) :\n",
        "\n",
        "  #Points lets up by the team when against teams with similar ppg as opponent\n",
        "  idx = rank_all.sort_values('Points').index.get_loc(t2)\n",
        "  if idx - 3 <= 0 :\n",
        "    a = 0\n",
        "  else :\n",
        "    a = idx - 3\n",
        "  b = idx + 4\n",
        "  opp_pts = pd.DataFrame([[np.mean(df[(df['Team'] == t1) & (df['Opponent'].isin(rank_all.sort_values('Points').iloc[a : b].index.values.tolist()))]['OppPoints'])]],\n",
        "                        columns = ['OppPoints'], index = [t1])\n",
        "\n",
        "  #ORtg of team when against teams with similar DRtg as opponent\n",
        "  idx = rank_all.sort_values('DRtg').index.get_loc(t2)\n",
        "  if idx - 3 <= 0 :\n",
        "    a = 0\n",
        "  else :\n",
        "    a = idx - 3\n",
        "  b = idx + 4\n",
        "  ortg = pd.DataFrame([[np.mean(df[(df['Team'] == t1) & (df['Opponent'].isin(rank_all.sort_values('DRtg').iloc[a : b].index.values.tolist()))]['ORtg'])]],\n",
        "                        columns = ['ORtg'], index = [t1])\n",
        "\n",
        "  #DRtg of team when against teams with similar ORtg as opponent\n",
        "  idx = rank_all.sort_values('ORtg').index.get_loc(t2)\n",
        "  if idx - 3 <= 0 :\n",
        "    a = 0\n",
        "  else :\n",
        "    a = idx - 3\n",
        "  b = idx + 4\n",
        "  drtg = pd.DataFrame([[np.mean(df[(df['Team'] == t1) & (df['Opponent'].isin(rank_all.sort_values('ORtg').iloc[a : b].index.values.tolist()))]['DRtg'])]],\n",
        "                        columns = ['DRtg'], index = [t1])\n",
        "\n",
        "  #Pace of team when against teams with similar pace as opponent\n",
        "  idx = rank_all.sort_values('Pace').index.get_loc(t2)\n",
        "  if idx - 3 <= 0 :\n",
        "    a = 0\n",
        "  else :\n",
        "    a = idx - 3\n",
        "  b = idx + 4\n",
        "  pace = pd.DataFrame([[np.mean(df[(df['Team'] == t1) & (df['Opponent'].isin(rank_all.sort_values('Pace').iloc[a : b].index.values.tolist()))]['Pace'])]],\n",
        "                        columns = ['Pace'], index = [t1])\n",
        "\n",
        "  #Variables of team when against teams with similar defensive variables as opponent\n",
        "  vars = ['FTRate', '3PtRate', 'TS%', 'TRB%', 'AST%', 'STL%', 'BLK%']\n",
        "  sim_var = pd.DataFrame()\n",
        "  for i in vars :\n",
        "    idx = rank_all.sort_values('Opp{}'.format(i)).index.get_loc(t2)\n",
        "    if idx - 3 <= 0 :\n",
        "      a = 0\n",
        "    else :\n",
        "      a = idx - 3\n",
        "    b = idx + 4\n",
        "\n",
        "    temp = pd.DataFrame([[np.mean(df[(df['Team'] == t1) & (df['Opponent'].isin(rank_all.sort_values('Opp{}'.format(i)).iloc[a : b].index.values.tolist()))]['{}'.format(i)])]], \n",
        "                          columns = ['{}'.format(i)], index = [t1])\n",
        "    sim_var = sim_var.join(temp, how = 'outer')\n",
        "\n",
        "  #OeFG% of team when against teams with similar DeFG% as opponent\n",
        "  idx = rank_all.sort_values('DeFG%').index.get_loc(t2)\n",
        "  if idx - 3 <= 0 :\n",
        "    a = 0\n",
        "  else :\n",
        "    a = idx - 3\n",
        "  b = idx + 4\n",
        "  oefg = pd.DataFrame([[np.mean(df[(df['Team'] == t1) & (df['Opponent'].isin(rank_all.sort_values('DeFG%').iloc[a : b].index.values.tolist()))]['OeFG%'])]],\n",
        "                        columns = ['OeFG%'], index = [t1])\n",
        "\n",
        "  #OffTOV% of team when against teams with similar DefTOV% as opponent\n",
        "  idx = rank_all.sort_values('DefTOV%').index.get_loc(t2)\n",
        "  if idx - 3 <= 0 :\n",
        "    a = 0\n",
        "  else :\n",
        "    a = idx - 3\n",
        "  b = idx + 4\n",
        "  offtov = pd.DataFrame([[np.mean(df[(df['Team'] == t1) & (df['Opponent'].isin(rank_all.sort_values('DefTOV%').iloc[a : b].index.values.tolist()))]['OffTOV%'])]],\n",
        "                        columns = ['OffTOV%'], index = [t1])\n",
        "\n",
        "  #OffORB% of team when against teams with similar OppORB% as opponent\n",
        "  idx = rank_all.sort_values('OppORB%').index.get_loc(t2)\n",
        "  if idx - 3 <= 0 :\n",
        "    a = 0\n",
        "  else :\n",
        "    a = idx - 3\n",
        "  b = idx + 4\n",
        "  offorb = pd.DataFrame([[np.mean(df[(df['Team'] == t1) & (df['Opponent'].isin(rank_all.sort_values('OppORB%').iloc[a : b].index.values.tolist()))]['OffORB%'])]],\n",
        "                        columns = ['OffORB%'], index = [t1])\n",
        "\n",
        "  #OffFT/FGA of team when against teams with similar DefFT/FGA as opponent\n",
        "  idx = rank_all.sort_values('DefFT/FGA').index.get_loc(t2)\n",
        "  if idx - 3 <= 0 :\n",
        "    a = 0\n",
        "  else :\n",
        "    a = idx - 3\n",
        "  b = idx + 4\n",
        "  off_ftfga = pd.DataFrame([[np.mean(df[(df['Team'] == t1) & (df['Opponent'].isin(rank_all.sort_values('DefFT/FGA').iloc[a : b].index.values.tolist()))]['OffFT/FGA'])]],\n",
        "                        columns = ['OffFT/FGA'], index = [t1])\n",
        "\n",
        "  #DeFG% of team when against teams with similar OeFG% as opponent\n",
        "  idx = rank_all.sort_values('OeFG%').index.get_loc(t2)\n",
        "  if idx - 3 <= 0 :\n",
        "    a = 0\n",
        "  else :\n",
        "    a = idx - 3\n",
        "  b = idx + 4\n",
        "  defg = pd.DataFrame([[np.mean(df[(df['Team'] == t1) & (df['Opponent'].isin(rank_all.sort_values('OeFG%').iloc[a : b].index.values.tolist()))]['DeFG%'])]],\n",
        "                        columns = ['DeFG%'], index = [t1])\n",
        "\n",
        "  #DefTOV% of team when against teams with similar OffTOV% as opponent\n",
        "  idx = rank_all.sort_values('OffTOV%').index.get_loc(t2)\n",
        "  if idx - 3 <= 0 :\n",
        "    a = 0\n",
        "  else :\n",
        "    a = idx - 3\n",
        "  b = idx + 4\n",
        "  deftov = pd.DataFrame([[np.mean(df[(df['Team'] == t1) & (df['Opponent'].isin(rank_all.sort_values('OffTOV%').iloc[a : b].index.values.tolist()))]['DefTOV%'])]],\n",
        "                        columns = ['DefTOV%'], index = [t1])\n",
        "\n",
        "  #DefDRB% of team when against teams with similar OppDRB% as opponent\n",
        "  idx = rank_all.sort_values('OppDRB%').index.get_loc(t2)\n",
        "  if idx - 3 <= 0 :\n",
        "    a = 0\n",
        "  else :\n",
        "    a = idx - 3\n",
        "  b = idx + 4\n",
        "  defdrb = pd.DataFrame([[np.mean(df[(df['Team'] == t1) & (df['Opponent'].isin(rank_all.sort_values('OppDRB%').iloc[a : b].index.values.tolist()))]['DefDRB%'])]],\n",
        "                        columns = ['DefDRB%'], index = [t1])\n",
        "\n",
        "  #DefFT/FGA% of team when against teams with similar OffFT/FGA% as opponent\n",
        "  idx = rank_all.sort_values('OffFT/FGA').index.get_loc(t2)\n",
        "  if idx - 3 <= 0 :\n",
        "    a = 0\n",
        "  else :\n",
        "    a = idx - 3\n",
        "  b = idx + 4\n",
        "  def_ftfga = pd.DataFrame([[np.mean(df[(df['Team'] == t1) & (df['Opponent'].isin(rank_all.sort_values('OffFT/FGA').iloc[a : b].index.values.tolist()))]['DefFT/FGA'])]],\n",
        "                        columns = ['DefFT/FGA'], index = [t1])\n",
        "  \n",
        "  frames = [opp_pts, ortg, drtg, pace, oefg, offtov, offorb, off_ftfga, defg, deftov, defdrb, def_ftfga]\n",
        "  sim_vars2 = pd.concat(frames, axis = 1)\n",
        "  frames2 = [sim_var, sim_vars2]\n",
        "  pred_vars = pd.concat(frames2, axis = 1)\n",
        "  pred_vars = pred_vars[['OppPoints', 'ORtg', 'DRtg', 'Pace', 'FTRate', '3PtRate', 'TS%', 'TRB%', 'AST%', 'STL%', 'BLK%', 'OeFG%', 'OffTOV%',\n",
        "                              'OffORB%', 'OffFT/FGA', 'DeFG%', 'DefTOV%', 'DefDRB%', 'DefFT/FGA']]\n",
        "\n",
        "  print('{} will score'.format(t1), round(regressor.predict([[ha,pred_vars.iloc[0,0],pred_vars.iloc[0,1],pred_vars.iloc[0,2],pred_vars.iloc[0,3],pred_vars.iloc[0,4],pred_vars.iloc[0,5],\n",
        "                          pred_vars.iloc[0,6],pred_vars.iloc[0,7],pred_vars.iloc[0,8],pred_vars.iloc[0,9],pred_vars.iloc[0,10],pred_vars.iloc[0,11],\n",
        "                          pred_vars.iloc[0,12],pred_vars.iloc[0,13],pred_vars.iloc[0,14],pred_vars.iloc[0,15],pred_vars.iloc[0,16],pred_vars.iloc[0,17],\n",
        "                          pred_vars.iloc[0,18],ds]])[0],2), 'points against {}.'.format(t2))"
      ],
      "execution_count": null,
      "outputs": []
    },
    {
      "cell_type": "code",
      "metadata": {
        "colab": {
          "base_uri": "https://localhost:8080/"
        },
        "id": "lJGtbkAbK2PG",
        "outputId": "acbb21c3-85dc-4ae1-f6d1-9a26242e5304"
      },
      "source": [
        "#Use the function to make the predictions\n",
        "#sim_pred(t1, t2, ha, ds)\n",
        "#t1: Team you want the prediction for\n",
        "#t2: Opponent\n",
        "#ha: Home/Away for t1. Home = 0. Away = 1\n",
        "#ds: Days since the last game t1 played (back to back equals 1, not 0)\n",
        "sim_pred('DAL', 'MIL', 0, 1)\n",
        "sim_pred('MIL', 'DAL', 1, 2)"
      ],
      "execution_count": null,
      "outputs": [
        {
          "output_type": "stream",
          "text": [
            "DAL will score 111.18 points against MIL.\n",
            "MIL will score 116.49 points against DAL.\n"
          ],
          "name": "stdout"
        }
      ]
    },
    {
      "cell_type": "markdown",
      "metadata": {
        "id": "uahU45yjTlc-"
      },
      "source": [
        "#Not Machine Learning and not sklearn"
      ]
    },
    {
      "cell_type": "code",
      "metadata": {
        "id": "LKaja2TY2x9f"
      },
      "source": [
        "#Multiple Linear Regression\n",
        "X1 = df[['ORtg', 'Pace', 'HomeAway', 'TS%', 'TRB%', 'AST%', 'OeFG%', 'OffTOV%', 'OffORB%', 'OffFT/FGA', 'DeFG%', 'DefTOV%', 'DefDRB%', 'DefFT/FGA']]\n",
        "Y = df['Points']\n",
        "\n",
        "#Add a constant and fit the model\n",
        "#X = sm.add_constant(X)\n",
        "\n",
        "#Fit the model\n",
        "model = sm.OLS(Y, X1).fit()\n",
        "#predictions = model.predict(X) \n",
        "\n",
        "#Print model output\n",
        "print_model = model.summary()\n",
        "print(print_model)"
      ],
      "execution_count": null,
      "outputs": []
    },
    {
      "cell_type": "code",
      "metadata": {
        "id": "nlzcBvi3CgPz"
      },
      "source": [
        "#Calculate Variable Inflation Factors (VIF) for each variable to test for multicollinearity\n",
        "def calc_vif(x) :\n",
        "  vif = pd.DataFrame()\n",
        "  vif['Variables'] = x.columns\n",
        "  vif['VIF'] = [variance_inflation_factor(x.values, i) for i in range(x.shape[1])]\n",
        "\n",
        "  return vif\n",
        "\n",
        "calc_vif(X1)"
      ],
      "execution_count": null,
      "outputs": []
    },
    {
      "cell_type": "code",
      "metadata": {
        "id": "wzyLLf4r7v6j"
      },
      "source": [
        "#Remove the variable with the highest p-value and re-run the model\n",
        "X2 = df[['ORtg', 'Pace', 'HomeAway', 'TS%', 'TRB%', 'AST%', 'OeFG%', 'OffTOV%', 'OffORB%', 'OffFT/FGA', 'DeFG%', 'DefTOV%', 'DefFT/FGA']]\n",
        "Y = df['Points']\n",
        "\n",
        "#X = sm.add_constant(X)\n",
        "model = sm.OLS(Y, X2).fit()\n",
        "#predictions = model.predict(X) \n",
        "\n",
        "print_model = model.summary()\n",
        "print(print_model)"
      ],
      "execution_count": null,
      "outputs": []
    },
    {
      "cell_type": "code",
      "metadata": {
        "id": "W-K8vvNpDE-T"
      },
      "source": [
        "#Remove the variable with the highest p-value and re-run the model\n",
        "X3 = df[['ORtg', 'Pace', 'HomeAway', 'TS%', 'TRB%', 'AST%', 'OeFG%', 'OffTOV%', 'OffORB%', 'OffFT/FGA', 'DeFG%', 'DefFT/FGA']]\n",
        "Y = df['Points']\n",
        "\n",
        "#X = sm.add_constant(X)\n",
        "model = sm.OLS(Y, X3).fit()\n",
        "#predictions = model.predict(X) \n",
        "\n",
        "print_model = model.summary()\n",
        "print(print_model)"
      ],
      "execution_count": null,
      "outputs": []
    },
    {
      "cell_type": "code",
      "metadata": {
        "id": "Rg5LpuUsDeSx"
      },
      "source": [
        "#Remove the variable with the highest p-value and re-run the model\n",
        "X4 = df[['ORtg', 'Pace', 'HomeAway', 'TS%', 'TRB%', 'AST%', 'OeFG%', 'OffTOV%', 'OffORB%', 'OffFT/FGA', 'DeFG%']]\n",
        "Y = df['Points']\n",
        "\n",
        "#X = sm.add_constant(X)\n",
        "model = sm.OLS(Y, X4).fit()\n",
        "#predictions = model.predict(X) \n",
        "\n",
        "print_model = model.summary()\n",
        "print(print_model)"
      ],
      "execution_count": null,
      "outputs": []
    },
    {
      "cell_type": "code",
      "metadata": {
        "id": "DO9uUubDFBAB"
      },
      "source": [
        "#Remove the variable with the highest p-value and re-run the model\n",
        "X5 = df[['ORtg', 'Pace', 'TS%', 'TRB%', 'AST%', 'OeFG%', 'OffTOV%', 'OffORB%', 'OffFT/FGA', 'DeFG%']]\n",
        "Y = df['Points']\n",
        "\n",
        "#X = sm.add_constant(X)\n",
        "model = sm.OLS(Y, X5).fit()\n",
        "#predictions = model.predict(X) \n",
        "\n",
        "print_model = model.summary()\n",
        "print(print_model)"
      ],
      "execution_count": null,
      "outputs": []
    },
    {
      "cell_type": "code",
      "metadata": {
        "colab": {
          "base_uri": "https://localhost:8080/"
        },
        "id": "tCYsHxwgY9ru",
        "outputId": "ab5d9467-be44-4feb-9185-7ce51ae12c1b"
      },
      "source": [
        "#Remove the variable with the highest p-value and re-run the model\n",
        "X6 = df[['Pace', 'TS%', 'TRB%', 'AST%', 'OeFG%', 'OffTOV%', 'OffORB%', 'OffFT/FGA', 'DeFG%']]\n",
        "Y = df['Points']\n",
        "\n",
        "#X = sm.add_constant(X)\n",
        "model = sm.OLS(Y, X6).fit()\n",
        "#predictions = model.predict(X) \n",
        "\n",
        "print_model = model.summary()\n",
        "print(print_model)"
      ],
      "execution_count": null,
      "outputs": [
        {
          "output_type": "stream",
          "text": [
            "                                 OLS Regression Results                                \n",
            "=======================================================================================\n",
            "Dep. Variable:                 Points   R-squared (uncentered):                   0.998\n",
            "Model:                            OLS   Adj. R-squared (uncentered):              0.998\n",
            "Method:                 Least Squares   F-statistic:                          9.283e+04\n",
            "Date:                Fri, 02 Apr 2021   Prob (F-statistic):                        0.00\n",
            "Time:                        02:09:21   Log-Likelihood:                         -3815.1\n",
            "No. Observations:                1311   AIC:                                      7648.\n",
            "Df Residuals:                    1302   BIC:                                      7695.\n",
            "Df Model:                           9                                                  \n",
            "Covariance Type:            nonrobust                                                  \n",
            "==============================================================================\n",
            "                 coef    std err          t      P>|t|      [0.025      0.975]\n",
            "------------------------------------------------------------------------------\n",
            "Pace           0.5598      0.018     30.308      0.000       0.524       0.596\n",
            "TS%           40.8513     17.269      2.366      0.018       6.973      74.730\n",
            "TRB%          -0.2913      0.035     -8.365      0.000      -0.360      -0.223\n",
            "AST%          -0.0758      0.013     -6.009      0.000      -0.101      -0.051\n",
            "OeFG%        113.7891     15.870      7.170      0.000      82.655     144.923\n",
            "OffTOV%       -1.2837      0.039    -32.727      0.000      -1.361      -1.207\n",
            "OffORB%        0.4924      0.026     18.882      0.000       0.441       0.544\n",
            "OffFT/FGA     25.3117      3.695      6.850      0.000      18.063      32.561\n",
            "DeFG%        -16.8876      1.923     -8.782      0.000     -20.660     -13.115\n",
            "==============================================================================\n",
            "Omnibus:                      286.976   Durbin-Watson:                   1.960\n",
            "Prob(Omnibus):                  0.000   Jarque-Bera (JB):              816.995\n",
            "Skew:                           1.113   Prob(JB):                    3.91e-178\n",
            "Kurtosis:                       6.162   Cond. No.                     2.47e+04\n",
            "==============================================================================\n",
            "\n",
            "Warnings:\n",
            "[1] Standard Errors assume that the covariance matrix of the errors is correctly specified.\n",
            "[2] The condition number is large, 2.47e+04. This might indicate that there are\n",
            "strong multicollinearity or other numerical problems.\n"
          ],
          "name": "stdout"
        }
      ]
    },
    {
      "cell_type": "code",
      "metadata": {
        "colab": {
          "base_uri": "https://localhost:8080/"
        },
        "id": "Amf0jrCxrEpH",
        "outputId": "cb0b7d46-fe4a-42f4-a624-c1b0d6afdf01"
      },
      "source": [
        "#Create a dataframe of the average values of the variables in the model for each team\n",
        "avg_array = []\n",
        "for m in df['Team'].unique() :\n",
        "  team_rank_df = df[df['Team'] == m]\n",
        "  mean_rank_df = team_rank_df.mean(axis = 0)\n",
        "  pace_rank = mean_rank_df['Pace']\n",
        "  ts_rank = mean_rank_df['TS%']\n",
        "  trb_rank = mean_rank_df['TRB%']\n",
        "  ast_rank = mean_rank_df['AST%']\n",
        "  oefg_rank = mean_rank_df['OeFG%']\n",
        "  otov_rank = mean_rank_df['OffTOV%']\n",
        "  orb_rank = mean_rank_df['OffORB%']\n",
        "  oft_fga_rank = mean_rank_df['OffFT/FGA']\n",
        "  defg_rank = mean_rank_df['DeFG%']\n",
        "\n",
        "  basic_rank_df = basic_log[basic_log['Team'] == m]\n",
        "  basic_mean_df = basic_rank_df.mean(axis = 0)\n",
        "  oppts = basic_mean_df['OppTS%']\n",
        "  opptrb = basic_mean_df['OppTRB%']\n",
        "  oppast = basic_mean_df['OppAST%']\n",
        "  opptov = basic_mean_df['OppTOV%']\n",
        "  opporb = basic_mean_df['OppORB%']\n",
        "  oppft_fga = basic_mean_df['OppFT/FGA']\n",
        "\n",
        "  avg_array.append([m, pace_rank, ts_rank, trb_rank, ast_rank, oefg_rank, otov_rank, orb_rank, oft_fga_rank, defg_rank, oppts, opptrb, oppast, opptov, opporb, oppft_fga])\n",
        "\n",
        "avg_df = pd.DataFrame(avg_array, columns = ['Team', 'Pace', 'TS%', 'TRB%', 'AST%', 'OeFG%', 'TOV%', 'ORB%', 'FT/FGA', 'DeFG%',\n",
        "                                            'OppTS%', 'OppTRB%', 'OppAST%', 'OppTOV%', 'OppORB%', 'OppFT/FGA'])\n",
        "#pace_rank_df_sort = pace_rank_df.sort_values('Pace').reset_index(drop = True)\n",
        "avg_df = avg_df.set_index('Team')"
      ],
      "execution_count": null,
      "outputs": [
        {
          "output_type": "stream",
          "text": [
            "/usr/local/lib/python3.7/dist-packages/ipykernel_launcher.py:5: FutureWarning: DataFrame.mean and DataFrame.median with numeric_only=None will include datetime64 and datetime64tz columns in a future version.\n",
            "  \"\"\"\n",
            "/usr/local/lib/python3.7/dist-packages/ipykernel_launcher.py:17: FutureWarning: DataFrame.mean and DataFrame.median with numeric_only=None will include datetime64 and datetime64tz columns in a future version.\n"
          ],
          "name": "stderr"
        }
      ]
    },
    {
      "cell_type": "code",
      "metadata": {
        "colab": {
          "base_uri": "https://localhost:8080/"
        },
        "id": "5qECpYhOKCzR",
        "outputId": "6b86580f-146a-4dd5-b89d-49450613738d"
      },
      "source": [
        "#Create a function to predict a team's points based on their values for that day\n",
        "def predict_past(date, team) :\n",
        "  Pace = df[(df['Date'] == date) & (df['Team'] == team)]['Pace'].iloc[0]\n",
        "  TS = df[(df['Date'] == date) & (df['Team'] == team)]['TS%'].iloc[0]\n",
        "  TRB = df[(df['Date'] == date) & (df['Team'] == team)]['TRB%'].iloc[0]\n",
        "  AST = df[(df['Date'] == date) & (df['Team'] == team)]['AST%'].iloc[0]\n",
        "  OeFG = df[(df['Date'] == date) & (df['Team'] == team)]['OeFG%'].iloc[0]\n",
        "  OffTOV = df[(df['Date'] == date) & (df['Team'] == team)]['OffTOV%'].iloc[0]\n",
        "  OffORB = df[(df['Date'] == date) & (df['Team'] == team)]['OffORB%'].iloc[0]\n",
        "  OffFT_FGA = df[(df['Date'] == date) & (df['Team'] == team)]['OffFT/FGA'].iloc[0]\n",
        "  DeFG = df[(df['Date'] == date) & (df['Team'] == team)]['DeFG%'].iloc[0]\n",
        "\n",
        "  X_pred = [Pace, TS, TRB, AST, OeFG, OffTOV, OffORB, OffFT_FGA, DeFG]\n",
        "  y_pred = model.predict(X_pred)\n",
        "  print(team, 'is predicted to score', round(y_pred[0], 2))\n",
        "  print(team, 'really scored', df[(df['Date'] == date) & (df['Team'] == team)]['Points'].iloc[0])\n",
        "  #return round(y_pred[0], 2)\n",
        "\n",
        "predict_past('2021-03-23', 'LAL')\n",
        "predict_past('2021-03-23', 'NOP')"
      ],
      "execution_count": null,
      "outputs": [
        {
          "output_type": "stream",
          "text": [
            "LAL is predicted to score 111.3\n",
            "LAL really scored 111\n",
            "NOP is predicted to score 123.41\n",
            "NOP really scored 128\n"
          ],
          "name": "stdout"
        }
      ]
    },
    {
      "cell_type": "code",
      "metadata": {
        "colab": {
          "base_uri": "https://localhost:8080/"
        },
        "id": "YdOwJ-DCiyS6",
        "outputId": "23885004-8aff-4271-a725-a6c95628f7f4"
      },
      "source": [
        "#Create a function to predict a team's points based on their average values\n",
        "def predict_future_avg(team1, team2) :\n",
        "\n",
        "  mean_pace = (avg_df.loc[team1, 'Pace'] + avg_df.loc[team2, 'Pace']) / 2\n",
        "  mean_ts1 = (avg_df.loc[team1, 'TS%'] + avg_df.loc[team2, 'OppTS%']) / 2\n",
        "  mean_trb1 = (avg_df.loc[team1, 'TRB%'] + avg_df.loc[team2, 'OppTRB%']) / 2\n",
        "  mean_ast1 = (avg_df.loc[team1, 'AST%'] + avg_df.loc[team2, 'OppAST%']) / 2\n",
        "  mean_oefg1 = (avg_df.loc[team1, 'OeFG%'] + avg_df.loc[team2, 'DeFG%']) / 2\n",
        "  mean_otov1 = (avg_df.loc[team1, 'TOV%'] + avg_df.loc[team2, 'OppTOV%']) / 2\n",
        "  mean_orb1 = (avg_df.loc[team1, 'ORB%'] + avg_df.loc[team2, 'OppORB%']) / 2\n",
        "  mean_oft_fga1 = (avg_df.loc[team1, 'FT/FGA'] + avg_df.loc[team2, 'OppFT/FGA']) / 2\n",
        "  mean_defg1 = (avg_df.loc[team1, 'DeFG%'] + avg_df.loc[team2, 'OeFG%']) / 2\n",
        "\n",
        "  mean_ts2 = (avg_df.loc[team2, 'TS%'] + avg_df.loc[team1, 'OppTS%']) / 2\n",
        "  mean_trb2 = (avg_df.loc[team2, 'TRB%'] + avg_df.loc[team1, 'OppTRB%']) / 2\n",
        "  mean_ast2 = (avg_df.loc[team2, 'AST%'] + avg_df.loc[team1, 'OppAST%']) / 2\n",
        "  mean_oefg2 = (avg_df.loc[team2, 'OeFG%'] + avg_df.loc[team1, 'DeFG%']) / 2\n",
        "  mean_otov2 = (avg_df.loc[team2, 'TOV%'] + avg_df.loc[team1, 'OppTOV%']) / 2\n",
        "  mean_orb2 = (avg_df.loc[team2, 'ORB%'] + avg_df.loc[team1, 'OppORB%']) / 2\n",
        "  mean_oft_fga2 = (avg_df.loc[team2, 'FT/FGA'] + avg_df.loc[team1, 'OppFT/FGA']) / 2\n",
        "  mean_defg2 = (avg_df.loc[team2, 'DeFG%'] + avg_df.loc[team1, 'OeFG%']) / 2\n",
        "\n",
        "  X_future1 = [mean_pace, mean_ts1, mean_trb1, mean_ast1, mean_oefg1, mean_otov1, mean_orb1, mean_oft_fga1, mean_defg1]\n",
        "  y_future1 = model.predict(X_future1)\n",
        "\n",
        "  X_future2 = [mean_pace, mean_ts2, mean_trb2, mean_ast2, mean_oefg2, mean_otov2, mean_orb2, mean_oft_fga2, mean_defg2]\n",
        "  y_future2 = model.predict(X_future2)\n",
        "\n",
        "  print(team1, 'is predicted to score', round(y_future1[0], 2))\n",
        "  print(team2, 'is predicted to score', round(y_future2[0], 2))\n",
        "\n",
        "predict_future_avg('POR', 'ORL')"
      ],
      "execution_count": null,
      "outputs": [
        {
          "output_type": "stream",
          "text": [
            "POR is predicted to score 113.67\n",
            "ORL is predicted to score 110.77\n"
          ],
          "name": "stdout"
        }
      ]
    },
    {
      "cell_type": "code",
      "metadata": {
        "colab": {
          "base_uri": "https://localhost:8080/",
          "height": 1000
        },
        "id": "DAHs2P6ypjuw",
        "outputId": "dfe843dc-c3cf-4e60-c71f-400eaebdce8c"
      },
      "source": [
        "mu = avg_df.mean(axis = 0).transpose()\n",
        "mu.name = 'Mean'\n",
        "\n",
        "sd = avg_df.std(axis = 0).transpose()\n",
        "sd.name = 'St_Dev'\n",
        "\n",
        "avg_df = avg_df.append(mu)\n",
        "avg_df = avg_df.append(sd)"
      ],
      "execution_count": null,
      "outputs": [
        {
          "output_type": "execute_result",
          "data": {
            "text/html": [
              "<div>\n",
              "<style scoped>\n",
              "    .dataframe tbody tr th:only-of-type {\n",
              "        vertical-align: middle;\n",
              "    }\n",
              "\n",
              "    .dataframe tbody tr th {\n",
              "        vertical-align: top;\n",
              "    }\n",
              "\n",
              "    .dataframe thead th {\n",
              "        text-align: right;\n",
              "    }\n",
              "</style>\n",
              "<table border=\"1\" class=\"dataframe\">\n",
              "  <thead>\n",
              "    <tr style=\"text-align: right;\">\n",
              "      <th></th>\n",
              "      <th>Pace</th>\n",
              "      <th>TS%</th>\n",
              "      <th>TRB%</th>\n",
              "      <th>AST%</th>\n",
              "      <th>OeFG%</th>\n",
              "      <th>TOV%</th>\n",
              "      <th>ORB%</th>\n",
              "      <th>FT/FGA</th>\n",
              "      <th>DeFG%</th>\n",
              "      <th>OppTS%</th>\n",
              "      <th>OppTRB%</th>\n",
              "      <th>OppAST%</th>\n",
              "      <th>OppTOV%</th>\n",
              "      <th>OppORB%</th>\n",
              "      <th>OppFT/FGA</th>\n",
              "    </tr>\n",
              "    <tr>\n",
              "      <th>Team</th>\n",
              "      <th></th>\n",
              "      <th></th>\n",
              "      <th></th>\n",
              "      <th></th>\n",
              "      <th></th>\n",
              "      <th></th>\n",
              "      <th></th>\n",
              "      <th></th>\n",
              "      <th></th>\n",
              "      <th></th>\n",
              "      <th></th>\n",
              "      <th></th>\n",
              "      <th></th>\n",
              "      <th></th>\n",
              "      <th></th>\n",
              "    </tr>\n",
              "  </thead>\n",
              "  <tbody>\n",
              "    <tr>\n",
              "      <th>GSW</th>\n",
              "      <td>102.404444</td>\n",
              "      <td>0.574356</td>\n",
              "      <td>46.928889</td>\n",
              "      <td>67.160000</td>\n",
              "      <td>0.540578</td>\n",
              "      <td>12.804444</td>\n",
              "      <td>17.075556</td>\n",
              "      <td>0.194333</td>\n",
              "      <td>0.522889</td>\n",
              "      <td>0.566793</td>\n",
              "      <td>53.105225</td>\n",
              "      <td>59.239032</td>\n",
              "      <td>12.907767</td>\n",
              "      <td>23.526616</td>\n",
              "      <td>0.227054</td>\n",
              "    </tr>\n",
              "    <tr>\n",
              "      <th>LAC</th>\n",
              "      <td>96.593478</td>\n",
              "      <td>0.601522</td>\n",
              "      <td>51.756522</td>\n",
              "      <td>57.732609</td>\n",
              "      <td>0.566130</td>\n",
              "      <td>11.132609</td>\n",
              "      <td>22.406522</td>\n",
              "      <td>0.194435</td>\n",
              "      <td>0.537652</td>\n",
              "      <td>0.569490</td>\n",
              "      <td>48.189460</td>\n",
              "      <td>56.604858</td>\n",
              "      <td>11.482562</td>\n",
              "      <td>19.999730</td>\n",
              "      <td>0.186451</td>\n",
              "    </tr>\n",
              "    <tr>\n",
              "      <th>LAL</th>\n",
              "      <td>98.288889</td>\n",
              "      <td>0.576044</td>\n",
              "      <td>51.911111</td>\n",
              "      <td>59.366667</td>\n",
              "      <td>0.542956</td>\n",
              "      <td>13.053333</td>\n",
              "      <td>22.597778</td>\n",
              "      <td>0.207956</td>\n",
              "      <td>0.524133</td>\n",
              "      <td>0.552627</td>\n",
              "      <td>48.126314</td>\n",
              "      <td>62.844292</td>\n",
              "      <td>12.842077</td>\n",
              "      <td>19.920900</td>\n",
              "      <td>0.171133</td>\n",
              "    </tr>\n",
              "    <tr>\n",
              "      <th>BKN</th>\n",
              "      <td>99.246667</td>\n",
              "      <td>0.613311</td>\n",
              "      <td>50.817778</td>\n",
              "      <td>61.037778</td>\n",
              "      <td>0.579756</td>\n",
              "      <td>12.086667</td>\n",
              "      <td>21.144444</td>\n",
              "      <td>0.209156</td>\n",
              "      <td>0.537200</td>\n",
              "      <td>0.568748</td>\n",
              "      <td>48.893192</td>\n",
              "      <td>58.024978</td>\n",
              "      <td>10.651607</td>\n",
              "      <td>22.104726</td>\n",
              "      <td>0.184352</td>\n",
              "    </tr>\n",
              "    <tr>\n",
              "      <th>CHI</th>\n",
              "      <td>99.958140</td>\n",
              "      <td>0.583000</td>\n",
              "      <td>51.230233</td>\n",
              "      <td>61.544186</td>\n",
              "      <td>0.552302</td>\n",
              "      <td>13.534884</td>\n",
              "      <td>21.704651</td>\n",
              "      <td>0.170163</td>\n",
              "      <td>0.536279</td>\n",
              "      <td>0.575469</td>\n",
              "      <td>48.522635</td>\n",
              "      <td>57.033612</td>\n",
              "      <td>11.466153</td>\n",
              "      <td>20.236338</td>\n",
              "      <td>0.205141</td>\n",
              "    </tr>\n",
              "    <tr>\n",
              "      <th>CHA</th>\n",
              "      <td>98.925581</td>\n",
              "      <td>0.576674</td>\n",
              "      <td>49.620930</td>\n",
              "      <td>67.141860</td>\n",
              "      <td>0.543256</td>\n",
              "      <td>13.213953</td>\n",
              "      <td>23.304651</td>\n",
              "      <td>0.192302</td>\n",
              "      <td>0.558442</td>\n",
              "      <td>0.579104</td>\n",
              "      <td>50.304977</td>\n",
              "      <td>66.242815</td>\n",
              "      <td>12.852500</td>\n",
              "      <td>23.352117</td>\n",
              "      <td>0.168088</td>\n",
              "    </tr>\n",
              "    <tr>\n",
              "      <th>BOS</th>\n",
              "      <td>97.145455</td>\n",
              "      <td>0.573523</td>\n",
              "      <td>51.072727</td>\n",
              "      <td>55.011364</td>\n",
              "      <td>0.542705</td>\n",
              "      <td>11.854545</td>\n",
              "      <td>25.236364</td>\n",
              "      <td>0.187227</td>\n",
              "      <td>0.542545</td>\n",
              "      <td>0.581439</td>\n",
              "      <td>49.155800</td>\n",
              "      <td>59.028909</td>\n",
              "      <td>12.457751</td>\n",
              "      <td>22.619142</td>\n",
              "      <td>0.217572</td>\n",
              "    </tr>\n",
              "    <tr>\n",
              "      <th>ATL</th>\n",
              "      <td>96.902273</td>\n",
              "      <td>0.576205</td>\n",
              "      <td>51.843182</td>\n",
              "      <td>60.722727</td>\n",
              "      <td>0.532182</td>\n",
              "      <td>12.013636</td>\n",
              "      <td>25.747727</td>\n",
              "      <td>0.234636</td>\n",
              "      <td>0.523432</td>\n",
              "      <td>0.566508</td>\n",
              "      <td>48.511271</td>\n",
              "      <td>58.846824</td>\n",
              "      <td>10.877433</td>\n",
              "      <td>23.032610</td>\n",
              "      <td>0.201181</td>\n",
              "    </tr>\n",
              "    <tr>\n",
              "      <th>UTA</th>\n",
              "      <td>98.195349</td>\n",
              "      <td>0.598093</td>\n",
              "      <td>52.823256</td>\n",
              "      <td>57.618605</td>\n",
              "      <td>0.565070</td>\n",
              "      <td>12.197674</td>\n",
              "      <td>24.851163</td>\n",
              "      <td>0.201628</td>\n",
              "      <td>0.510837</td>\n",
              "      <td>0.537735</td>\n",
              "      <td>47.167341</td>\n",
              "      <td>54.981991</td>\n",
              "      <td>9.993215</td>\n",
              "      <td>21.248947</td>\n",
              "      <td>0.163001</td>\n",
              "    </tr>\n",
              "    <tr>\n",
              "      <th>SAS</th>\n",
              "      <td>98.557143</td>\n",
              "      <td>0.551810</td>\n",
              "      <td>47.957143</td>\n",
              "      <td>58.916667</td>\n",
              "      <td>0.516690</td>\n",
              "      <td>9.961905</td>\n",
              "      <td>18.840476</td>\n",
              "      <td>0.182143</td>\n",
              "      <td>0.536429</td>\n",
              "      <td>0.565026</td>\n",
              "      <td>51.802508</td>\n",
              "      <td>58.779981</td>\n",
              "      <td>11.491809</td>\n",
              "      <td>21.751963</td>\n",
              "      <td>0.166176</td>\n",
              "    </tr>\n",
              "    <tr>\n",
              "      <th>SAC</th>\n",
              "      <td>99.497778</td>\n",
              "      <td>0.581089</td>\n",
              "      <td>48.726667</td>\n",
              "      <td>60.102222</td>\n",
              "      <td>0.552156</td>\n",
              "      <td>11.484444</td>\n",
              "      <td>22.668889</td>\n",
              "      <td>0.191467</td>\n",
              "      <td>0.562156</td>\n",
              "      <td>0.593837</td>\n",
              "      <td>51.256525</td>\n",
              "      <td>57.420517</td>\n",
              "      <td>10.770893</td>\n",
              "      <td>24.244460</td>\n",
              "      <td>0.198223</td>\n",
              "    </tr>\n",
              "    <tr>\n",
              "      <th>POR</th>\n",
              "      <td>97.531818</td>\n",
              "      <td>0.574955</td>\n",
              "      <td>48.461364</td>\n",
              "      <td>49.825000</td>\n",
              "      <td>0.536318</td>\n",
              "      <td>9.920455</td>\n",
              "      <td>22.511364</td>\n",
              "      <td>0.198182</td>\n",
              "      <td>0.557477</td>\n",
              "      <td>0.589348</td>\n",
              "      <td>51.244969</td>\n",
              "      <td>60.310968</td>\n",
              "      <td>11.193221</td>\n",
              "      <td>23.219311</td>\n",
              "      <td>0.206562</td>\n",
              "    </tr>\n",
              "    <tr>\n",
              "      <th>PHO</th>\n",
              "      <td>96.909302</td>\n",
              "      <td>0.597279</td>\n",
              "      <td>50.081395</td>\n",
              "      <td>63.688372</td>\n",
              "      <td>0.565000</td>\n",
              "      <td>11.606977</td>\n",
              "      <td>19.455814</td>\n",
              "      <td>0.176279</td>\n",
              "      <td>0.523419</td>\n",
              "      <td>0.556307</td>\n",
              "      <td>49.906111</td>\n",
              "      <td>55.075641</td>\n",
              "      <td>11.487536</td>\n",
              "      <td>21.474771</td>\n",
              "      <td>0.194413</td>\n",
              "    </tr>\n",
              "    <tr>\n",
              "      <th>DEN</th>\n",
              "      <td>96.352273</td>\n",
              "      <td>0.591705</td>\n",
              "      <td>51.218182</td>\n",
              "      <td>61.784091</td>\n",
              "      <td>0.563432</td>\n",
              "      <td>11.434091</td>\n",
              "      <td>24.115909</td>\n",
              "      <td>0.171273</td>\n",
              "      <td>0.547659</td>\n",
              "      <td>0.580464</td>\n",
              "      <td>48.421458</td>\n",
              "      <td>65.809079</td>\n",
              "      <td>12.485014</td>\n",
              "      <td>21.865268</td>\n",
              "      <td>0.199420</td>\n",
              "    </tr>\n",
              "    <tr>\n",
              "      <th>NOP</th>\n",
              "      <td>98.123256</td>\n",
              "      <td>0.582442</td>\n",
              "      <td>53.753488</td>\n",
              "      <td>61.095349</td>\n",
              "      <td>0.550651</td>\n",
              "      <td>11.946512</td>\n",
              "      <td>27.213953</td>\n",
              "      <td>0.209953</td>\n",
              "      <td>0.560977</td>\n",
              "      <td>0.591964</td>\n",
              "      <td>46.419188</td>\n",
              "      <td>63.647462</td>\n",
              "      <td>11.173605</td>\n",
              "      <td>20.230424</td>\n",
              "      <td>0.187304</td>\n",
              "    </tr>\n",
              "    <tr>\n",
              "      <th>MIN</th>\n",
              "      <td>100.972727</td>\n",
              "      <td>0.545114</td>\n",
              "      <td>47.743182</td>\n",
              "      <td>62.111364</td>\n",
              "      <td>0.513500</td>\n",
              "      <td>12.188636</td>\n",
              "      <td>21.711364</td>\n",
              "      <td>0.175841</td>\n",
              "      <td>0.548523</td>\n",
              "      <td>0.586539</td>\n",
              "      <td>52.056049</td>\n",
              "      <td>61.118114</td>\n",
              "      <td>12.843736</td>\n",
              "      <td>23.639638</td>\n",
              "      <td>0.211542</td>\n",
              "    </tr>\n",
              "    <tr>\n",
              "      <th>MEM</th>\n",
              "      <td>100.060976</td>\n",
              "      <td>0.552927</td>\n",
              "      <td>51.063415</td>\n",
              "      <td>62.758537</td>\n",
              "      <td>0.519829</td>\n",
              "      <td>11.480488</td>\n",
              "      <td>23.951220</td>\n",
              "      <td>0.174415</td>\n",
              "      <td>0.545317</td>\n",
              "      <td>0.578336</td>\n",
              "      <td>49.058182</td>\n",
              "      <td>62.377007</td>\n",
              "      <td>13.589508</td>\n",
              "      <td>20.491101</td>\n",
              "      <td>0.198755</td>\n",
              "    </tr>\n",
              "    <tr>\n",
              "      <th>CLE</th>\n",
              "      <td>96.250000</td>\n",
              "      <td>0.539227</td>\n",
              "      <td>50.050000</td>\n",
              "      <td>59.395455</td>\n",
              "      <td>0.507227</td>\n",
              "      <td>13.175000</td>\n",
              "      <td>25.295455</td>\n",
              "      <td>0.187068</td>\n",
              "      <td>0.551545</td>\n",
              "      <td>0.583651</td>\n",
              "      <td>50.336388</td>\n",
              "      <td>58.583174</td>\n",
              "      <td>13.167835</td>\n",
              "      <td>24.071062</td>\n",
              "      <td>0.191374</td>\n",
              "    </tr>\n",
              "    <tr>\n",
              "      <th>DET</th>\n",
              "      <td>96.655814</td>\n",
              "      <td>0.553907</td>\n",
              "      <td>49.120930</td>\n",
              "      <td>63.220930</td>\n",
              "      <td>0.515209</td>\n",
              "      <td>12.316279</td>\n",
              "      <td>22.609302</td>\n",
              "      <td>0.211721</td>\n",
              "      <td>0.546977</td>\n",
              "      <td>0.580107</td>\n",
              "      <td>51.068346</td>\n",
              "      <td>60.505636</td>\n",
              "      <td>12.802401</td>\n",
              "      <td>22.896788</td>\n",
              "      <td>0.202733</td>\n",
              "    </tr>\n",
              "    <tr>\n",
              "      <th>DAL</th>\n",
              "      <td>97.123810</td>\n",
              "      <td>0.586119</td>\n",
              "      <td>49.259524</td>\n",
              "      <td>55.866667</td>\n",
              "      <td>0.551286</td>\n",
              "      <td>10.776190</td>\n",
              "      <td>19.342857</td>\n",
              "      <td>0.199929</td>\n",
              "      <td>0.535524</td>\n",
              "      <td>0.568429</td>\n",
              "      <td>50.667033</td>\n",
              "      <td>56.337266</td>\n",
              "      <td>10.882089</td>\n",
              "      <td>22.262863</td>\n",
              "      <td>0.197872</td>\n",
              "    </tr>\n",
              "    <tr>\n",
              "      <th>IND</th>\n",
              "      <td>99.555814</td>\n",
              "      <td>0.573814</td>\n",
              "      <td>48.069767</td>\n",
              "      <td>63.420930</td>\n",
              "      <td>0.541767</td>\n",
              "      <td>11.665116</td>\n",
              "      <td>20.018605</td>\n",
              "      <td>0.181442</td>\n",
              "      <td>0.540395</td>\n",
              "      <td>0.574304</td>\n",
              "      <td>51.969426</td>\n",
              "      <td>62.150463</td>\n",
              "      <td>13.105820</td>\n",
              "      <td>23.163202</td>\n",
              "      <td>0.201725</td>\n",
              "    </tr>\n",
              "    <tr>\n",
              "      <th>PHI</th>\n",
              "      <td>100.035556</td>\n",
              "      <td>0.582089</td>\n",
              "      <td>52.462222</td>\n",
              "      <td>56.217778</td>\n",
              "      <td>0.542933</td>\n",
              "      <td>13.002222</td>\n",
              "      <td>23.906667</td>\n",
              "      <td>0.233933</td>\n",
              "      <td>0.518178</td>\n",
              "      <td>0.555717</td>\n",
              "      <td>47.851960</td>\n",
              "      <td>59.155996</td>\n",
              "      <td>12.976257</td>\n",
              "      <td>21.161260</td>\n",
              "      <td>0.198594</td>\n",
              "    </tr>\n",
              "    <tr>\n",
              "      <th>TOR</th>\n",
              "      <td>98.961364</td>\n",
              "      <td>0.576727</td>\n",
              "      <td>47.211364</td>\n",
              "      <td>63.670455</td>\n",
              "      <td>0.537455</td>\n",
              "      <td>11.645455</td>\n",
              "      <td>20.318182</td>\n",
              "      <td>0.204000</td>\n",
              "      <td>0.545045</td>\n",
              "      <td>0.587022</td>\n",
              "      <td>53.047024</td>\n",
              "      <td>67.700053</td>\n",
              "      <td>13.908569</td>\n",
              "      <td>24.193250</td>\n",
              "      <td>0.246708</td>\n",
              "    </tr>\n",
              "    <tr>\n",
              "      <th>ORL</th>\n",
              "      <td>97.893182</td>\n",
              "      <td>0.533705</td>\n",
              "      <td>50.184091</td>\n",
              "      <td>58.718182</td>\n",
              "      <td>0.499568</td>\n",
              "      <td>11.420455</td>\n",
              "      <td>21.863636</td>\n",
              "      <td>0.173568</td>\n",
              "      <td>0.544477</td>\n",
              "      <td>0.572004</td>\n",
              "      <td>49.892142</td>\n",
              "      <td>61.887679</td>\n",
              "      <td>11.115436</td>\n",
              "      <td>19.890912</td>\n",
              "      <td>0.165186</td>\n",
              "    </tr>\n",
              "    <tr>\n",
              "      <th>MIA</th>\n",
              "      <td>96.464444</td>\n",
              "      <td>0.571600</td>\n",
              "      <td>49.133333</td>\n",
              "      <td>67.435556</td>\n",
              "      <td>0.533800</td>\n",
              "      <td>13.166667</td>\n",
              "      <td>18.951111</td>\n",
              "      <td>0.206022</td>\n",
              "      <td>0.529978</td>\n",
              "      <td>0.561647</td>\n",
              "      <td>50.854680</td>\n",
              "      <td>65.663583</td>\n",
              "      <td>12.965683</td>\n",
              "      <td>22.656396</td>\n",
              "      <td>0.176964</td>\n",
              "    </tr>\n",
              "    <tr>\n",
              "      <th>WAS</th>\n",
              "      <td>103.637209</td>\n",
              "      <td>0.566372</td>\n",
              "      <td>48.051163</td>\n",
              "      <td>60.188372</td>\n",
              "      <td>0.525605</td>\n",
              "      <td>12.309302</td>\n",
              "      <td>19.888372</td>\n",
              "      <td>0.235395</td>\n",
              "      <td>0.547442</td>\n",
              "      <td>0.583452</td>\n",
              "      <td>51.541380</td>\n",
              "      <td>56.085688</td>\n",
              "      <td>12.184795</td>\n",
              "      <td>22.537962</td>\n",
              "      <td>0.224384</td>\n",
              "    </tr>\n",
              "    <tr>\n",
              "      <th>NYK</th>\n",
              "      <td>95.456818</td>\n",
              "      <td>0.552545</td>\n",
              "      <td>51.409091</td>\n",
              "      <td>53.947727</td>\n",
              "      <td>0.517364</td>\n",
              "      <td>11.777273</td>\n",
              "      <td>23.229545</td>\n",
              "      <td>0.192182</td>\n",
              "      <td>0.514636</td>\n",
              "      <td>0.550890</td>\n",
              "      <td>48.714799</td>\n",
              "      <td>61.077971</td>\n",
              "      <td>11.332936</td>\n",
              "      <td>20.566246</td>\n",
              "      <td>0.206379</td>\n",
              "    </tr>\n",
              "    <tr>\n",
              "      <th>MIL</th>\n",
              "      <td>101.569767</td>\n",
              "      <td>0.595163</td>\n",
              "      <td>52.960465</td>\n",
              "      <td>58.395349</td>\n",
              "      <td>0.568674</td>\n",
              "      <td>11.748837</td>\n",
              "      <td>23.262791</td>\n",
              "      <td>0.175302</td>\n",
              "      <td>0.532047</td>\n",
              "      <td>0.561983</td>\n",
              "      <td>47.356692</td>\n",
              "      <td>59.541506</td>\n",
              "      <td>11.169562</td>\n",
              "      <td>19.886286</td>\n",
              "      <td>0.154108</td>\n",
              "    </tr>\n",
              "    <tr>\n",
              "      <th>HOU</th>\n",
              "      <td>100.486047</td>\n",
              "      <td>0.543233</td>\n",
              "      <td>46.565116</td>\n",
              "      <td>57.674419</td>\n",
              "      <td>0.508628</td>\n",
              "      <td>12.230233</td>\n",
              "      <td>18.923256</td>\n",
              "      <td>0.193116</td>\n",
              "      <td>0.541372</td>\n",
              "      <td>0.576827</td>\n",
              "      <td>53.410718</td>\n",
              "      <td>59.137998</td>\n",
              "      <td>12.562482</td>\n",
              "      <td>23.243213</td>\n",
              "      <td>0.210707</td>\n",
              "    </tr>\n",
              "    <tr>\n",
              "      <th>OKC</th>\n",
              "      <td>99.356818</td>\n",
              "      <td>0.553523</td>\n",
              "      <td>48.356818</td>\n",
              "      <td>58.827273</td>\n",
              "      <td>0.524159</td>\n",
              "      <td>12.763636</td>\n",
              "      <td>18.147727</td>\n",
              "      <td>0.175068</td>\n",
              "      <td>0.535273</td>\n",
              "      <td>0.563169</td>\n",
              "      <td>51.204862</td>\n",
              "      <td>57.971622</td>\n",
              "      <td>10.982357</td>\n",
              "      <td>21.246136</td>\n",
              "      <td>0.161239</td>\n",
              "    </tr>\n",
              "    <tr>\n",
              "      <th>Mean</th>\n",
              "      <td>98.637073</td>\n",
              "      <td>0.572602</td>\n",
              "      <td>49.994778</td>\n",
              "      <td>60.153216</td>\n",
              "      <td>0.538540</td>\n",
              "      <td>11.997064</td>\n",
              "      <td>22.009845</td>\n",
              "      <td>0.194671</td>\n",
              "      <td>0.538608</td>\n",
              "      <td>0.571964</td>\n",
              "      <td>50.001888</td>\n",
              "      <td>60.106157</td>\n",
              "      <td>11.990754</td>\n",
              "      <td>22.024455</td>\n",
              "      <td>0.194145</td>\n",
              "    </tr>\n",
              "    <tr>\n",
              "      <th>St_Dev</th>\n",
              "      <td>1.963339</td>\n",
              "      <td>0.019884</td>\n",
              "      <td>1.944918</td>\n",
              "      <td>3.924631</td>\n",
              "      <td>0.020722</td>\n",
              "      <td>0.884650</td>\n",
              "      <td>2.508776</td>\n",
              "      <td>0.018512</td>\n",
              "      <td>0.013492</td>\n",
              "      <td>0.013346</td>\n",
              "      <td>1.875593</td>\n",
              "      <td>3.336937</td>\n",
              "      <td>1.021761</td>\n",
              "      <td>1.419222</td>\n",
              "      <td>0.021640</td>\n",
              "    </tr>\n",
              "  </tbody>\n",
              "</table>\n",
              "</div>"
            ],
            "text/plain": [
              "              Pace       TS%       TRB%  ...    OppTOV%    OppORB%  OppFT/FGA\n",
              "Team                                     ...                                 \n",
              "GSW     102.404444  0.574356  46.928889  ...  12.907767  23.526616   0.227054\n",
              "LAC      96.593478  0.601522  51.756522  ...  11.482562  19.999730   0.186451\n",
              "LAL      98.288889  0.576044  51.911111  ...  12.842077  19.920900   0.171133\n",
              "BKN      99.246667  0.613311  50.817778  ...  10.651607  22.104726   0.184352\n",
              "CHI      99.958140  0.583000  51.230233  ...  11.466153  20.236338   0.205141\n",
              "CHA      98.925581  0.576674  49.620930  ...  12.852500  23.352117   0.168088\n",
              "BOS      97.145455  0.573523  51.072727  ...  12.457751  22.619142   0.217572\n",
              "ATL      96.902273  0.576205  51.843182  ...  10.877433  23.032610   0.201181\n",
              "UTA      98.195349  0.598093  52.823256  ...   9.993215  21.248947   0.163001\n",
              "SAS      98.557143  0.551810  47.957143  ...  11.491809  21.751963   0.166176\n",
              "SAC      99.497778  0.581089  48.726667  ...  10.770893  24.244460   0.198223\n",
              "POR      97.531818  0.574955  48.461364  ...  11.193221  23.219311   0.206562\n",
              "PHO      96.909302  0.597279  50.081395  ...  11.487536  21.474771   0.194413\n",
              "DEN      96.352273  0.591705  51.218182  ...  12.485014  21.865268   0.199420\n",
              "NOP      98.123256  0.582442  53.753488  ...  11.173605  20.230424   0.187304\n",
              "MIN     100.972727  0.545114  47.743182  ...  12.843736  23.639638   0.211542\n",
              "MEM     100.060976  0.552927  51.063415  ...  13.589508  20.491101   0.198755\n",
              "CLE      96.250000  0.539227  50.050000  ...  13.167835  24.071062   0.191374\n",
              "DET      96.655814  0.553907  49.120930  ...  12.802401  22.896788   0.202733\n",
              "DAL      97.123810  0.586119  49.259524  ...  10.882089  22.262863   0.197872\n",
              "IND      99.555814  0.573814  48.069767  ...  13.105820  23.163202   0.201725\n",
              "PHI     100.035556  0.582089  52.462222  ...  12.976257  21.161260   0.198594\n",
              "TOR      98.961364  0.576727  47.211364  ...  13.908569  24.193250   0.246708\n",
              "ORL      97.893182  0.533705  50.184091  ...  11.115436  19.890912   0.165186\n",
              "MIA      96.464444  0.571600  49.133333  ...  12.965683  22.656396   0.176964\n",
              "WAS     103.637209  0.566372  48.051163  ...  12.184795  22.537962   0.224384\n",
              "NYK      95.456818  0.552545  51.409091  ...  11.332936  20.566246   0.206379\n",
              "MIL     101.569767  0.595163  52.960465  ...  11.169562  19.886286   0.154108\n",
              "HOU     100.486047  0.543233  46.565116  ...  12.562482  23.243213   0.210707\n",
              "OKC      99.356818  0.553523  48.356818  ...  10.982357  21.246136   0.161239\n",
              "Mean     98.637073  0.572602  49.994778  ...  11.990754  22.024455   0.194145\n",
              "St_Dev    1.963339  0.019884   1.944918  ...   1.021761   1.419222   0.021640\n",
              "\n",
              "[32 rows x 15 columns]"
            ]
          },
          "metadata": {
            "tags": []
          },
          "execution_count": 58
        }
      ]
    },
    {
      "cell_type": "code",
      "metadata": {
        "colab": {
          "base_uri": "https://localhost:8080/"
        },
        "id": "R-FESODvynRq",
        "outputId": "acb44d7c-5f43-4e7d-cc18-1f059c25630a"
      },
      "source": [
        "#Create a function to predict a team's points based on adjusted values\n",
        "def predict_future_adj(team1, team2) :\n",
        "  \n",
        "  adj_pace = (avg_df.loc[team1, 'Pace'] + avg_df.loc[team2, 'Pace']) / 2\n",
        "\n",
        "  adj_ts1 = avg_df.loc[team1, 'TS%'] + ((avg_df.loc[team2, 'OppTS%'] - avg_df.loc['Mean', 'OppTS%']) / avg_df.loc['St_Dev', 'OppTS%']) * avg_df.loc['St_Dev', 'TS%']\n",
        "  adj_trb1 = avg_df.loc[team1, 'TRB%'] + ((avg_df.loc[team2, 'OppTRB%'] - avg_df.loc['Mean', 'OppTRB%']) / avg_df.loc['St_Dev', 'OppTRB%']) * avg_df.loc['St_Dev', 'TRB%']\n",
        "  adj_ast1 = avg_df.loc[team1, 'AST%'] + ((avg_df.loc[team2, 'OppAST%'] - avg_df.loc['Mean', 'OppAST%']) / avg_df.loc['St_Dev', 'OppAST%']) * avg_df.loc['St_Dev', 'AST%']\n",
        "  adj_oefg1 = avg_df.loc[team1, 'OeFG%'] + ((avg_df.loc[team2, 'DeFG%'] - avg_df.loc['Mean', 'DeFG%']) / avg_df.loc['St_Dev', 'DeFG%']) * avg_df.loc['St_Dev', 'OeFG%']\n",
        "  adj_otov1 = avg_df.loc[team1, 'TOV%'] + ((avg_df.loc[team2, 'OppTOV%'] - avg_df.loc['Mean', 'OppTOV%']) / avg_df.loc['St_Dev', 'OppTOV%']) * avg_df.loc['St_Dev', 'TOV%']\n",
        "  adj_orb1 = avg_df.loc[team1, 'ORB%'] + ((avg_df.loc[team2, 'OppORB%'] - avg_df.loc['Mean', 'OppORB%']) / avg_df.loc['St_Dev', 'OppORB%']) * avg_df.loc['St_Dev', 'ORB%']\n",
        "  adj_oft_fga1 = avg_df.loc[team1, 'FT/FGA'] + ((avg_df.loc[team2, 'OppFT/FGA'] - avg_df.loc['Mean', 'OppFT/FGA']) / avg_df.loc['St_Dev', 'OppFT/FGA']) * avg_df.loc['St_Dev', 'FT/FGA']\n",
        "  adj_defg1 = avg_df.loc[team1, 'DeFG%'] + ((avg_df.loc[team2, 'OeFG%'] - avg_df.loc['Mean', 'OeFG%']) / avg_df.loc['St_Dev', 'OeFG%']) * avg_df.loc['St_Dev', 'DeFG%']\n",
        "\n",
        "  adj_ts2 = avg_df.loc[team2, 'TS%'] + ((avg_df.loc[team1, 'OppTS%'] - avg_df.loc['Mean', 'OppTS%']) / avg_df.loc['St_Dev', 'OppTS%']) * avg_df.loc['St_Dev', 'TS%']\n",
        "  adj_trb2 = avg_df.loc[team2, 'TRB%'] + ((avg_df.loc[team1, 'OppTRB%'] - avg_df.loc['Mean', 'OppTRB%']) / avg_df.loc['St_Dev', 'OppTRB%']) * avg_df.loc['St_Dev', 'TRB%']\n",
        "  adj_ast2 = avg_df.loc[team2, 'AST%'] + ((avg_df.loc[team1, 'OppAST%'] - avg_df.loc['Mean', 'OppAST%']) / avg_df.loc['St_Dev', 'OppAST%']) * avg_df.loc['St_Dev', 'AST%']\n",
        "  adj_oefg2 = avg_df.loc[team2, 'OeFG%'] + ((avg_df.loc[team1, 'DeFG%'] - avg_df.loc['Mean', 'DeFG%']) / avg_df.loc['St_Dev', 'DeFG%']) * avg_df.loc['St_Dev', 'OeFG%']\n",
        "  adj_otov2 = avg_df.loc[team2, 'TOV%'] + ((avg_df.loc[team1, 'OppTOV%'] - avg_df.loc['Mean', 'OppTOV%']) / avg_df.loc['St_Dev', 'OppTOV%']) * avg_df.loc['St_Dev', 'TOV%']\n",
        "  adj_orb2 = avg_df.loc[team2, 'ORB%'] + ((avg_df.loc[team1, 'OppORB%'] - avg_df.loc['Mean', 'OppORB%']) / avg_df.loc['St_Dev', 'OppORB%']) * avg_df.loc['St_Dev', 'ORB%']\n",
        "  adj_oft_fga2 = avg_df.loc[team2, 'FT/FGA'] + ((avg_df.loc[team1, 'OppFT/FGA'] - avg_df.loc['Mean', 'OppFT/FGA']) / avg_df.loc['St_Dev', 'OppFT/FGA']) * avg_df.loc['St_Dev', 'FT/FGA']\n",
        "  adj_defg2 = avg_df.loc[team2, 'DeFG%'] + ((avg_df.loc[team1, 'OeFG%'] - avg_df.loc['Mean', 'OeFG%']) / avg_df.loc['St_Dev', 'OeFG%']) * avg_df.loc['St_Dev', 'DeFG%']\n",
        "\n",
        "  X_adj1 = [adj_pace, adj_ts1, adj_trb1, adj_ast1, adj_oefg1, adj_otov1, adj_orb1, adj_oft_fga1, adj_defg1]\n",
        "  #X_adj1 = [90.5, .509, 46.7, 68.8, .474, 10.9, 17.8, .231, .465]\n",
        "  y_adj1 = model.predict(X_adj1)\n",
        "\n",
        "  X_adj2 = [adj_pace, adj_ts2, adj_trb2, adj_ast2, adj_oefg2, adj_otov2, adj_orb2, adj_oft_fga2, adj_defg2]\n",
        "  #X_adj2 = [90.5, .482, 53.3, 67.6, .465, 12.6, 24.4, .094, .474]\n",
        "  y_adj2 = model.predict(X_adj2)\n",
        "\n",
        "  #print(adj_ts1, adj_trb1, adj_ast1, adj_oefg1, adj_otov1)\n",
        "  print(team1, 'is predicted to score', round(y_adj1[0], 2))\n",
        "  print(team2, 'is predicted to score', round(y_adj2[0], 2))\n",
        "\n",
        "predict_future_adj('LAL', 'NOP')"
      ],
      "execution_count": null,
      "outputs": [
        {
          "output_type": "stream",
          "text": [
            "LAL is predicted to score 116.41\n",
            "NOP is predicted to score 108.34\n"
          ],
          "name": "stdout"
        }
      ]
    },
    {
      "cell_type": "code",
      "metadata": {
        "colab": {
          "base_uri": "https://localhost:8080/",
          "height": 386
        },
        "id": "bTCZH4k2zS8W",
        "outputId": "0bcf7621-fb4e-4d9c-cb26-8ffc372424a8"
      },
      "source": [
        "sns.displot(data = avg_df, x = 'Pace')"
      ],
      "execution_count": null,
      "outputs": [
        {
          "output_type": "execute_result",
          "data": {
            "text/plain": [
              "<seaborn.axisgrid.FacetGrid at 0x7fb59cbef090>"
            ]
          },
          "metadata": {
            "tags": []
          },
          "execution_count": 158
        },
        {
          "output_type": "display_data",
          "data": {
            "image/png": "[encoded data removed]",
            "text/plain": [
              "<Figure size 360x360 with 1 Axes>"
            ]
          },
          "metadata": {
            "tags": [],
            "needs_background": "light"
          }
        }
      ]
    },
    {
      "cell_type": "code",
      "metadata": {
        "id": "0IZ7m05WBepk"
      },
      "source": [
        "#Convert variable columns into lists and put those lists into one array\n",
        "A = df['ORtg'].tolist()\n",
        "B = df['Pace'].tolist()\n",
        "C = df['HomeAway'].tolist()\n",
        "Z = np.array([A,B,C])"
      ],
      "execution_count": null,
      "outputs": []
    },
    {
      "cell_type": "code",
      "metadata": {
        "colab": {
          "base_uri": "https://localhost:8080/",
          "height": 265
        },
        "id": "BO9NRZNbD-hh",
        "outputId": "0798cc3d-b277-4a58-ab85-c8d752e27f79"
      },
      "source": [
        "#Calculate the covariance matrix\n",
        "covMatrix = np.cov(Z, bias = False)\n",
        "sns.heatmap(covMatrix, annot = True, fmt = 'g')\n",
        "plt.show()"
      ],
      "execution_count": null,
      "outputs": [
        {
          "output_type": "display_data",
          "data": {
            "image/png": "[encoded data removed]",
            "text/plain": [
              "<Figure size 432x288 with 2 Axes>"
            ]
          },
          "metadata": {
            "tags": [],
            "needs_background": "light"
          }
        }
      ]
    },
    {
      "cell_type": "code",
      "metadata": {
        "colab": {
          "base_uri": "https://localhost:8080/",
          "height": 269
        },
        "id": "TFGYI0mVEADi",
        "outputId": "14b8bb65-9d77-4ece-8327-9e88dc2a0a13"
      },
      "source": [
        "#Calculate the correlation matrix\n",
        "corrMatrix = np.corrcoef(Z)\n",
        "sns.heatmap(corrMatrix, annot = True, fmt = 'g')\n",
        "plt.show()"
      ],
      "execution_count": null,
      "outputs": [
        {
          "output_type": "display_data",
          "data": {
            "image/png": "[encoded data removed]",
            "text/plain": [
              "<Figure size 432x288 with 2 Axes>"
            ]
          },
          "metadata": {
            "tags": [],
            "needs_background": "light"
          }
        }
      ]
    },
    {
      "cell_type": "code",
      "metadata": {
        "colab": {
          "base_uri": "https://localhost:8080/"
        },
        "id": "ttZPnPdgGELn",
        "outputId": "755ef1a5-b37e-4f1a-c7ee-a96cb0a0c930"
      },
      "source": [
        "#Perform a t-test to determine if variables change when a team is home vs away\n",
        "#H0: The two groups have equal means\n",
        "#H1: The two groups do not have equal means\n",
        "#If p-value <= 0.05, reject the null\n",
        "#If p-value > 0.05, do not reject the null\n",
        "def home_away_t(team, column) :\n",
        "  home = df[(df['HomeAway'] == 0) & (df['Team'] == team)]\n",
        "  away = df[(df['HomeAway'] == 1) & (df['Team'] == team)]\n",
        "\n",
        "  t = stats.ttest_ind(home[column], away[column], equal_var = False)\n",
        "  return t\n",
        "\n",
        "home_away_t('LAL', 'DRtg')"
      ],
      "execution_count": null,
      "outputs": [
        {
          "output_type": "execute_result",
          "data": {
            "text/plain": [
              "Ttest_indResult(statistic=-0.24332976845071858, pvalue=0.8089736055614513)"
            ]
          },
          "metadata": {
            "tags": []
          },
          "execution_count": 65
        }
      ]
    },
    {
      "cell_type": "code",
      "metadata": {
        "id": "UBY7ndqIBSpQ"
      },
      "source": [
        "#Plot a team's points vs another variable\n",
        "def pts_vs(team, variable, title, ylab) :\n",
        "  off_dist = df[df['Team'] == team]\n",
        "  def_dist = df[df['Opp'] == team]\n",
        "\n",
        "  plt.figure(figsize = (10,10))\n",
        "  plt.scatter(off_dist['Tm'], def_dist[variable])\n",
        "  plt.title(\"Team's Points vs {}\".format(title))\n",
        "  plt.xlabel('Points Scored')\n",
        "  plt.ylabel(\"{}\".format(ylab))\n",
        "\n",
        "pts_vs('LAL', 'Pace', 'Pace of the Game', 'Pace')"
      ],
      "execution_count": null,
      "outputs": []
    },
    {
      "cell_type": "code",
      "metadata": {
        "id": "4ukEeW1kvOAX"
      },
      "source": [
        "sns.jointplot(west_dict['LAL']['Tm'], west_dict['LAL']['Pace'])"
      ],
      "execution_count": null,
      "outputs": []
    }
  ]
}